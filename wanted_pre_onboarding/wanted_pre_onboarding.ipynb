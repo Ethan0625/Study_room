{
  "nbformat": 4,
  "nbformat_minor": 0,
  "metadata": {
    "colab": {
      "name": "wanted_pre_onboarding.ipynb",
      "provenance": [],
      "collapsed_sections": [],
      "authorship_tag": "ABX9TyOjv28bd80AF0jIwU6Tq0xL",
      "include_colab_link": true
    },
    "kernelspec": {
      "name": "python3",
      "display_name": "Python 3"
    },
    "language_info": {
      "name": "python"
    }
  },
  "cells": [
    {
      "cell_type": "markdown",
      "metadata": {
        "id": "view-in-github",
        "colab_type": "text"
      },
      "source": [
        "<a href=\"https://colab.research.google.com/github/Ethan0625/Study_room/blob/main/wanted_pre_onboarding/wanted_pre_onboarding.ipynb\" target=\"_parent\"><img src=\"https://colab.research.google.com/assets/colab-badge.svg\" alt=\"Open In Colab\"/></a>"
      ]
    },
    {
      "cell_type": "markdown",
      "source": [
        "# 원티드 프리온보딩 사전과제(박병학)  \n",
        "## Requirement 필수 제출 사항\n",
        "\n",
        "- 원티드 이력서\n",
        "- 과제 (아래에 자세한 안내가 있습니다.)\n",
        "    - GitHub Repository 링크\n",
        "\n",
        "## 과제 안내\n",
        "\n",
        "- 아래 설명에 따라 코드의 빈칸을 채워 Tokenizer(문제 1)와 TfidfVectorizer(문제 2) 클래스를 완성하세요.\n",
        "    - 문제 1, 문제 2 모두 수행해야 합니다.\n",
        "    - 주어진 조건을 모두 만족해야 합니다.\n",
        "- 작업한 파일을 하나의 GitHub Repository에 담아서 제출하세요.\n",
        "    - 파일 형식: `.ipynb`\n",
        "        - `.ipynb` 파일 하나에 문제 1과 문제 2 작업 결과를 모두 담아 주시기 바랍니다.\n",
        "    - 링크 제출 전 해당 GitHub Repository가 public으로 설정되어 있는지 확인 바랍니다.\n",
        "        - private으로 설정 시 제출 확인이 불가합니다.  \n"
      ],
      "metadata": {
        "id": "1Ggv1skPiVV0"
      }
    },
    {
      "cell_type": "markdown",
      "source": [
        "### **문제 1) Tokenizer 생성하기**\n",
        "\n",
        "**1-1. `preprocessing()`**\n",
        "\n",
        "텍스트 전처리를 하는 함수입니다.\n",
        "\n",
        "- input: 여러 영어 문장이 포함된 list 입니다. ex) ['I go to school.', 'I LIKE pizza!']\n",
        "- output: 각 문장을 토큰화한 결과로, nested list 형태입니다. ex) [['i', 'go', 'to', 'school'], ['i', 'like', 'pizza']]\n",
        "- 조건 1: 입력된 문장에 대해서 소문자로의 변환과 특수문자 제거를 수행합니다.\n",
        "- 조건 2: 토큰화는 white space 단위로 수행합니다.\n",
        "    \n",
        "    \n",
        "\n",
        "**1-2. `fit()`**\n",
        "\n",
        "어휘 사전을 구축하는 함수입니다.\n",
        "\n",
        "- input: 여러 영어 문장이 포함된 list 입니다. ex) ['I go to school.', 'I LIKE pizza!']\n",
        "- 조건 1: 위에서 만든 `preprocessing` 함수를 이용하여 각 문장에 대해 토큰화를 수행합니다.\n",
        "- 조건 2: 각각의 토큰을 정수 인덱싱 하기 위한 어휘 사전(`self.word_dict`)을 생성합니다.\n",
        "    - 주어진 코드에 있는 `self.word_dict`를 활용합니다.\n",
        "    \n",
        "\n",
        "**1-3. `transform()`**\n",
        "\n",
        "어휘 사전을 활용하여 입력 문장을 정수 인덱싱하는 함수입니다.\n",
        "\n",
        "- input: 여러 영어 문장이 포함된 list입니다. ex) ['I go to school.', 'I LIKE pizza!']\n",
        "- output: 각 문장의 정수 인덱싱으로, nested list 형태입니다. ex) [[1, 2, 3, 4], [1, 5, 6]]\n",
        "- 조건 1: 어휘 사전(`self.word_dict`)에 없는 단어는 'oov'의 index로 변환합니다."
      ],
      "metadata": {
        "id": "ZWHBt26Gityh"
      }
    },
    {
      "cell_type": "code",
      "source": [
        "# 필요 라이브러리 import\n",
        "import re"
      ],
      "metadata": {
        "id": "dRcJkEGKkHyx"
      },
      "execution_count": 1,
      "outputs": []
    },
    {
      "cell_type": "code",
      "execution_count": 2,
      "metadata": {
        "id": "w0G5HDWZg7LO"
      },
      "outputs": [],
      "source": [
        "class Tokenizer():\n",
        "    def __init__(self):\n",
        "        self.word_dict = {'oov': 0}\n",
        "        self.fit_checker = False\n",
        "\n",
        "    def preprocessing(self, sequences):\n",
        "        self.sequences = sequences\n",
        "        result = []\n",
        "        '''\n",
        "        문제 1-1.\n",
        "        '''\n",
        "        # 반복문을 통한 전처리 구간\n",
        "        for sen in sequences:\n",
        "            # 대문자를 소문자로 일괄변경\n",
        "            temp = sen.lower()\n",
        "            # 정규식을 활용, 특수문자 제거\n",
        "            temp = re.sub('[-=+,#/\\?:^$.@*\\\"※~&%ㆍ!』\\\\‘|\\(\\)\\[\\]\\<\\>`\\'…》]','', temp)\n",
        "            # white space를 기준으로 문장 토큰화\n",
        "            temp = temp.split()\n",
        "            # list로 받은 토큰들을 result에 append\n",
        "            result.append(temp)\n",
        "\n",
        "        return result\n",
        "  \n",
        "    def fit(self, sequences):\n",
        "        self.fit_checker = False\n",
        "        '''\n",
        "        문제 1-2.\n",
        "        '''\n",
        "        # tokens변수를 활용하여 전처리 결과를 저장\n",
        "        tokens = self.preprocessing(sequences)\n",
        "        # 정수 번호를 지정해주기 위해서 len()활용\n",
        "        num = len(self.word_dict)\n",
        "        # 문장에서 토큰을 하나씩 뽑기 위해 이중 for문 활용\n",
        "        for word in tokens:\n",
        "            for i in word:\n",
        "                # wrod_dict에 해당 단어가 들어있지 않으면 새로운 단어로 판단하여\n",
        "                # word_dict에 num을 할당하여 추가\n",
        "                if i not in self.word_dict:\n",
        "                    self.word_dict[i] = num\n",
        "                    # 다음 단어는 다음 정수를 받아야 하므로\n",
        "                    # 새로운 단어가 추가 되었을 때 num+=1을 통해 정수 1 증가\n",
        "                    num+=1\n",
        "\n",
        "        self.fit_checker = True\n",
        "  \n",
        "    def transform(self, sequences):\n",
        "        result = []\n",
        "        tokens = self.preprocessing(sequences)\n",
        "        if self.fit_checker:\n",
        "            '''\n",
        "            문제 1-3.\n",
        "            '''\n",
        "            # 위에서 만들었던 word_dict를 활용하여\n",
        "            # 문자를 정수로 바꿔주는 정수 인덱싱 진행\n",
        "            for word in tokens:\n",
        "                word2idx = []\n",
        "                for i in word:\n",
        "                    # 해당 토큰이 word_dict에 있는 경우 매치가 되는 정수로 변환\n",
        "                    if i in self.word_dict:\n",
        "                        word2idx.append(self.word_dict[i])\n",
        "                    # 만약 매치되는 것이 없다면 'oov'에 해당하는 정수로 변환\n",
        "                    else :\n",
        "                        word2idx.append(self.word_dict['oov'])\n",
        "                result.append(word2idx)\n",
        "            return result\n",
        "        else:\n",
        "            raise Exception(\"Tokenizer instance is not fitted yet.\")\n",
        "      \n",
        "    def fit_transform(self, sequences):\n",
        "        self.fit(sequences)\n",
        "        result = self.transform(sequences)\n",
        "        return result"
      ]
    },
    {
      "cell_type": "markdown",
      "source": [
        "### 문제 1 결과 확인해보기"
      ],
      "metadata": {
        "id": "SL86oeV7J0-E"
      }
    },
    {
      "cell_type": "code",
      "source": [
        "sen = [\n",
        "  'I want to eat an APPLE!',\n",
        "  'I WANT to eat a banana',\n",
        "  'Long YELLOW BANANA banana!',\n",
        "  'I LOVE fruit!!!'\n",
        "] "
      ],
      "metadata": {
        "id": "HruLyw_jJys-"
      },
      "execution_count": 3,
      "outputs": []
    },
    {
      "cell_type": "code",
      "source": [
        "tok = Tokenizer()"
      ],
      "metadata": {
        "id": "69SR2fgiJ6s7"
      },
      "execution_count": 4,
      "outputs": []
    },
    {
      "cell_type": "code",
      "source": [
        "result = tok.preprocessing(sen)\n",
        "print(result)"
      ],
      "metadata": {
        "colab": {
          "base_uri": "https://localhost:8080/"
        },
        "id": "g_KdnWVQKFjk",
        "outputId": "d092815f-c20a-498d-f7bd-6ee2f581ed20"
      },
      "execution_count": 5,
      "outputs": [
        {
          "output_type": "stream",
          "name": "stdout",
          "text": [
            "[['i', 'want', 'to', 'eat', 'an', 'apple'], ['i', 'want', 'to', 'eat', 'a', 'banana'], ['long', 'yellow', 'banana', 'banana'], ['i', 'love', 'fruit']]\n"
          ]
        }
      ]
    },
    {
      "cell_type": "code",
      "source": [
        "tok.fit(sen)\n",
        "print(tok.word_dict)"
      ],
      "metadata": {
        "colab": {
          "base_uri": "https://localhost:8080/"
        },
        "id": "NDf2LGctKWeT",
        "outputId": "bd12f899-3cc3-437a-d1f7-2f40e534538d"
      },
      "execution_count": 6,
      "outputs": [
        {
          "output_type": "stream",
          "name": "stdout",
          "text": [
            "{'oov': 0, 'i': 1, 'want': 2, 'to': 3, 'eat': 4, 'an': 5, 'apple': 6, 'a': 7, 'banana': 8, 'long': 9, 'yellow': 10, 'love': 11, 'fruit': 12}\n"
          ]
        }
      ]
    },
    {
      "cell_type": "code",
      "source": [
        "result = tok.fit_transform(sen)\n",
        "print(result)"
      ],
      "metadata": {
        "colab": {
          "base_uri": "https://localhost:8080/"
        },
        "id": "3MQhdT5IMl-1",
        "outputId": "e5c6b4d2-84f3-414d-d86d-7085dc39314a"
      },
      "execution_count": 7,
      "outputs": [
        {
          "output_type": "stream",
          "name": "stdout",
          "text": [
            "[[1, 2, 3, 4, 5, 6], [1, 2, 3, 4, 7, 8], [9, 10, 8, 8], [1, 11, 12]]\n"
          ]
        }
      ]
    },
    {
      "cell_type": "markdown",
      "source": [
        "### **문제 2) TfidfVectorizer 생성하기**\n",
        "\n",
        "**2-1. `fit()`**\n",
        "\n",
        "입력 문장들을 이용해 IDF 행렬을 만드는 함수입니다.\n",
        "\n",
        "- input: 여러 영어 문장이 포함된 list 입니다. ex) ['I go to school.', 'I LIKE pizza!']\n",
        "- 조건 1: IDF 행렬은 list 형태입니다.\n",
        "    - ex) [토큰1에 대한 IDF 값, 토큰2에 대한 IDF 값, .... ]\n",
        "- 조건 2: IDF 값은 아래 식을 이용해 구합니다.\n",
        "    \n",
        "    $$\n",
        "    idf(d,t)=log_e(\\frac{n}{1+df(d,t)})\n",
        "    $$\n",
        "    \n",
        "    - $df(d,t)$ : 단어 t가 포함된 문장 d의 개수\n",
        "    - $n$ : 입력된 전체 문장 개수\n",
        "- 조건 3: 입력된 문장의 토큰화에는 문제 1에서 만든 Tokenizer를 사용합니다.\n",
        "    \n",
        "    \n",
        "\n",
        "**2-2. `transform()`**\n",
        "\n",
        "입력 문장들을 이용해 TF-IDF 행렬을 만드는 함수입니다.\n",
        "\n",
        "- input: 여러 영어 문장이 포함된 list입니다. ex) ['I go to school.', 'I LIKE pizza!']\n",
        "- output : nested list 형태입니다.\n",
        "    \n",
        "    ex) [[tf-idf(1, 1), tf-idf(1, 2), tf-idf(1, 3)], [tf-idf(2, 1), tf-idf(2, 2), tf-idf(2, 3)]]\n",
        "\n",
        "|  | 토큰1 | 토큰2 | 토큰3 |\n",
        "| --- | --- | --- | --- |\n",
        "| 문장1 | tf-idf(1,1) | tf-idf(1,2) | tf-idf(1,3) |\n",
        "| 문장2 | tf-idf(2,1) | tf-idf(2,2) | tf-idf(2,3) |\n",
        "\n",
        "- 조건1 : 입력 문장을 이용해 TF 행렬을 만드세요.\n",
        "    - $tf(d, t)$ : 문장 d에 단어 t가 나타난 횟수\n",
        "- 조건2 : 문제 2-1( `fit()`)에서 만든 IDF 행렬과 아래 식을 이용해 TF-IDF 행렬을 만드세요\n",
        "    \n",
        "$$\n",
        "tf-idf(d,t) = tf(d,t) \\times idf(d,t)\n",
        "$$"
      ],
      "metadata": {
        "id": "AEvQf9WFRJJk"
      }
    },
    {
      "cell_type": "code",
      "source": [
        "from math import log"
      ],
      "metadata": {
        "id": "ZAWJWktEf9Ye"
      },
      "execution_count": 8,
      "outputs": []
    },
    {
      "cell_type": "code",
      "source": [
        "class TfidfVectorizer:\n",
        "    def __init__(self, tokenizer):\n",
        "        self.tokenizer = tokenizer\n",
        "        self.fit_checker = False\n",
        "        # 입력된 문장으로만 tf-idf 행렬을 만들기 위해\n",
        "        # 입력된 문장을 위한 vocab 변수입니다.\n",
        "        self.tfidf_vocab = []\n",
        "        # fit에서 만들 idf_matrix를 저장하기 위한 변수입니다.\n",
        "        self.idf_matrix = []\n",
        "        # transform에서 tf-idf행렬을 만들기 위해 사용할 tf_matrix 변수입니다.\n",
        "        self.tf_matrix = []\n",
        "        # transform에서 만들어 tf-idf 행렬을 저장하기 위한 변수입니다.\n",
        "        self.tfidf_matrix = []\n",
        "\n",
        "    def fit(self, sequences):\n",
        "        tokenized = self.tokenizer.fit_transform(sequences)\n",
        "        '''\n",
        "        문제 2-1.\n",
        "        '''\n",
        "        # idf행렬을 만들기 위해서 입력된 문장 d의 갯수를 len을 활용하여 구합니다.\n",
        "        n = len(tokenized)\n",
        "\n",
        "        # 현재 문장에 사용된 토큰만으로 tf-idf행렬을 만들기 위해\n",
        "        # tfidf_vocab변수를 만들어 따로 사전을 만들어줍니다.\n",
        "        for i in tokenized:\n",
        "            self.tfidf_vocab += i\n",
        "\n",
        "        self.tfidf_vocab = list(set(self.tfidf_vocab))\n",
        "        self.tfidf_vocab.sort()\n",
        "\n",
        "        # idf행렬을 만들기위해서 만들어 두었던 tfidf_vacab에서\n",
        "        # 단어 하나씩을 가져와 해당 단어가 포함된 문장의 갯수를 파악하여\n",
        "        # df를 계산하고, 이를 활용하여 idf행렬을 만듭니다.\n",
        "        for i in self.tfidf_vocab:\n",
        "            df = 0\n",
        "            for sen in tokenized:\n",
        "                df += i in sen\n",
        "            self.idf_matrix.append(log(n/(df+1)))\n",
        "            #만들어진 idf 행렬은 tf_idf행렬을 구할 때 사용합니다.\n",
        "\n",
        "        self.fit_checker = True\n",
        "\n",
        "\n",
        "    def transform(self, sequences):\n",
        "        if self.fit_checker:\n",
        "            tokenized = self.tokenizer.transform(sequences)\n",
        "            '''\n",
        "            문제 2-2.\n",
        "            '''\n",
        "            # 문장과 target단어가 들어왔을 때\n",
        "            # 해당 문장에 target단어가 몇개 포함되었는지\n",
        "            # 확인하기 위한 _tf함수를 만들어줍니다.\n",
        "            def _tf(d,t):\n",
        "                return d.count(t)\n",
        "\n",
        "            # 만들어 두었던 _tf함수를 활용하여\n",
        "            # 반복문들 통해 문장을 하나씩 가져와\n",
        "            # tfidf_vocab에서 target단어를 가져오고\n",
        "            # 해당 target단어의 출현 횟수를 list로 만들어 tf_matrix변수에 저장합니다.\n",
        "            for sen in tokenized:\n",
        "                tmp = []\n",
        "                for i in self.tfidf_vocab:\n",
        "                    tmp.append(_tf(sen,i))\n",
        "                self.tf_matrix.append(tmp)\n",
        "           \n",
        "           # 저장한 tf_matrix변수를 활용하여\n",
        "           # 해당 토큰의 idf값에 tf값을 곱하여 tf-idf행렬을 만들어냅니다.\n",
        "            for i in range(len(self.tf_matrix)):\n",
        "                tmp=[]\n",
        "                for j in range(len(self.tf_matrix[i])):\n",
        "                    tmp.append(self.tf_matrix[i][j]*self.idf_matrix[j])\n",
        "                self.tfidf_matrix.append(tmp)\n",
        "\n",
        "            return self.tfidf_matrix\n",
        "        else:\n",
        "            raise Exception(\"TfidfVectorizer instance is not fitted yet.\")\n",
        "\n",
        "\n",
        "    def fit_transform(self, sequences):\n",
        "        self.fit(sequences)\n",
        "        return self.transform(sequences)"
      ],
      "metadata": {
        "id": "1mm2OVuiRk69"
      },
      "execution_count": 9,
      "outputs": []
    },
    {
      "cell_type": "markdown",
      "source": [
        "사이킷런이라는 외부 라이브러리를 통해서도 tf-idf 행렬을 만들 수 있습니다.  \n",
        "이를 활용하여 list형태로 output의 형식을 맞추어 사용할 수 있지만, 해당 라이브러리를 활용하는 것보다 직접 만들어보는 것이 좀 더 의미있을 것이라고 판단하여 직접 제작하여 사용하였습니다."
      ],
      "metadata": {
        "id": "NB3pLP-TRIXt"
      }
    },
    {
      "cell_type": "markdown",
      "source": [
        "### 문제 2 결과 확인해보기"
      ],
      "metadata": {
        "id": "Zr3scSZoM2Qw"
      }
    },
    {
      "cell_type": "code",
      "source": [
        "sen = [\n",
        "  'I want to eat an APPLE!',\n",
        "  'I WANT to eat a banana',\n",
        "  'Long YELLOW BANANA banana!',\n",
        "  'I LOVE fruit!!!'\n",
        "] "
      ],
      "metadata": {
        "id": "MHaK5I2GpdQ4"
      },
      "execution_count": 10,
      "outputs": []
    },
    {
      "cell_type": "code",
      "source": [
        "tok = Tokenizer()"
      ],
      "metadata": {
        "id": "nECUr3Trpffu"
      },
      "execution_count": 11,
      "outputs": []
    },
    {
      "cell_type": "code",
      "source": [
        "tfidf = TfidfVectorizer(tok)"
      ],
      "metadata": {
        "id": "KVhnvvK4pmkg"
      },
      "execution_count": 12,
      "outputs": []
    },
    {
      "cell_type": "code",
      "source": [
        "result = tfidf.fit_transform(sen)\n",
        "print(result)"
      ],
      "metadata": {
        "colab": {
          "base_uri": "https://localhost:8080/"
        },
        "id": "gC60uIwscH2G",
        "outputId": "88eba907-3a58-4f73-834f-50967566a7cd"
      },
      "execution_count": 13,
      "outputs": [
        {
          "output_type": "stream",
          "name": "stdout",
          "text": [
            "[[0.0, 0.28768207245178085, 0.28768207245178085, 0.28768207245178085, 0.6931471805599453, 0.6931471805599453, 0.0, 0.0, 0.0, 0.0, 0.0, 0.0], [0.0, 0.28768207245178085, 0.28768207245178085, 0.28768207245178085, 0.0, 0.0, 0.6931471805599453, 0.28768207245178085, 0.0, 0.0, 0.0, 0.0], [0.0, 0.0, 0.0, 0.0, 0.0, 0.0, 0.0, 0.5753641449035617, 0.6931471805599453, 0.6931471805599453, 0.0, 0.0], [0.0, 0.0, 0.0, 0.0, 0.0, 0.0, 0.0, 0.0, 0.0, 0.0, 0.6931471805599453, 0.6931471805599453]]\n"
          ]
        }
      ]
    },
    {
      "cell_type": "code",
      "source": [
        "result"
      ],
      "metadata": {
        "colab": {
          "base_uri": "https://localhost:8080/"
        },
        "id": "ToIsIRAtoyHJ",
        "outputId": "1f54a810-961a-45c1-c3e2-0a369a08ece1"
      },
      "execution_count": 14,
      "outputs": [
        {
          "output_type": "execute_result",
          "data": {
            "text/plain": [
              "[[0.0,\n",
              "  0.28768207245178085,\n",
              "  0.28768207245178085,\n",
              "  0.28768207245178085,\n",
              "  0.6931471805599453,\n",
              "  0.6931471805599453,\n",
              "  0.0,\n",
              "  0.0,\n",
              "  0.0,\n",
              "  0.0,\n",
              "  0.0,\n",
              "  0.0],\n",
              " [0.0,\n",
              "  0.28768207245178085,\n",
              "  0.28768207245178085,\n",
              "  0.28768207245178085,\n",
              "  0.0,\n",
              "  0.0,\n",
              "  0.6931471805599453,\n",
              "  0.28768207245178085,\n",
              "  0.0,\n",
              "  0.0,\n",
              "  0.0,\n",
              "  0.0],\n",
              " [0.0,\n",
              "  0.0,\n",
              "  0.0,\n",
              "  0.0,\n",
              "  0.0,\n",
              "  0.0,\n",
              "  0.0,\n",
              "  0.5753641449035617,\n",
              "  0.6931471805599453,\n",
              "  0.6931471805599453,\n",
              "  0.0,\n",
              "  0.0],\n",
              " [0.0,\n",
              "  0.0,\n",
              "  0.0,\n",
              "  0.0,\n",
              "  0.0,\n",
              "  0.0,\n",
              "  0.0,\n",
              "  0.0,\n",
              "  0.0,\n",
              "  0.0,\n",
              "  0.6931471805599453,\n",
              "  0.6931471805599453]]"
            ]
          },
          "metadata": {},
          "execution_count": 14
        }
      ]
    },
    {
      "cell_type": "code",
      "source": [
        "tfidf.tfidf_vocab"
      ],
      "metadata": {
        "colab": {
          "base_uri": "https://localhost:8080/"
        },
        "id": "ND7WqyRdSA01",
        "outputId": "7ef00218-e3a0-4ce0-ddad-409897599545"
      },
      "execution_count": 15,
      "outputs": [
        {
          "output_type": "execute_result",
          "data": {
            "text/plain": [
              "[1, 2, 3, 4, 5, 6, 7, 8, 9, 10, 11, 12]"
            ]
          },
          "metadata": {},
          "execution_count": 15
        }
      ]
    }
  ]
}